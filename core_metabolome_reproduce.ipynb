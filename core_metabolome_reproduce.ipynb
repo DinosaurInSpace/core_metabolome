{
 "cells": [
  {
   "cell_type": "code",
   "execution_count": 355,
   "metadata": {},
   "outputs": [],
   "source": [
    "import re\n",
    "from rdkit import Chem\n",
    "import pandas as pd\n",
    "import numpy as np\n",
    "from rdkit.Chem.PandasTools import LoadSDF\n",
    "from rdkit.Chem.rdMolDescriptors import CalcMolFormula\n",
    "from rdkit.Chem.rdmolfiles import MolFromSmiles\n",
    "from rdkit.Chem.inchi import MolToInchi\n",
    "import json\n",
    "import pickle\n",
    "import zipfile\n",
    "\n",
    "from CM_curate_utils import *"
   ]
  },
  {
   "cell_type": "markdown",
   "metadata": {},
   "source": [
    "## Import required data"
   ]
  },
  {
   "cell_type": "markdown",
   "metadata": {},
   "source": [
    "### Load MDBs and LipidMaps"
   ]
  },
  {
   "cell_type": "code",
   "execution_count": null,
   "metadata": {},
   "outputs": [],
   "source": [
    "with zipfile.ZipFile('data/LMSD_2022.zip', 'r') as zip_ref:\n",
    "    zip_ref.extractall('data/')"
   ]
  },
  {
   "cell_type": "code",
   "execution_count": null,
   "metadata": {},
   "outputs": [],
   "source": [
    "hmdb_v4 = pd.read_csv('data/HMDB_v4.csv')\n",
    "ecmdb_df = pd.read_json('data/ecmdb.json')\n",
    "ymdb_df = LoadSDF('data/ymdb.sdf', smilesName='smiles')\n",
    "lm_df = LoadSDF('data/LMSD.sdf/structures.sdf', smilesName='smiles')"
   ]
  },
  {
   "cell_type": "markdown",
   "metadata": {},
   "source": [
    "### Load and parse KEGG biological compounds"
   ]
  },
  {
   "cell_type": "code",
   "execution_count": 167,
   "metadata": {},
   "outputs": [],
   "source": [
    "json_file_path = 'data/kegg_bio_cmpds.json'\n",
    "KEGG_df = parse_KEGG_json_to_df(json_file_path)\n",
    "KEGG_df.to_csv('data/KEGG_bio_cmpds_flat.csv', index=False)"
   ]
  },
  {
   "cell_type": "markdown",
   "metadata": {},
   "source": [
    "The KEGG IDs from `KEGG_df` were used as query to [CTS](http://cts.fiehnlab.ucdavis.edu/batch) and a batch conversion was performed on the webapp where `KEGG` was source type and both `InChIKey` and `Human Metabolome Database` as target types. The output was downloaded and saved in `data/KEGG_CTS_convert_res.csv`"
   ]
  },
  {
   "cell_type": "code",
   "execution_count": 19,
   "metadata": {},
   "outputs": [],
   "source": [
    "KEGG_CTS_res = pd.read_csv('data/KEGG_CTS_convert_res.csv')"
   ]
  },
  {
   "cell_type": "code",
   "execution_count": 48,
   "metadata": {},
   "outputs": [],
   "source": [
    "KEGG_inchi_no_hmdb = KEGG_CTS_res[KEGG_CTS_res['Human Metabolome Database'] == 'No result']\n",
    "KEGG_inchi_no_hmdb = KEGG_inchi_no_hmdb[~KEGG_inchi_no_hmdb.InChIKey.isna()]\n",
    "KEGG_inchi_no_hmdb.to_csv('data/KEGG_inchi_no_hmdb.csv', index=False)"
   ]
  },
  {
   "cell_type": "markdown",
   "metadata": {},
   "source": [
    "KEGG IDs that are not mapped to an HMDB ID, but have a corresponding InChIKey were exported and provided as query to [CTS](http://cts.fiehnlab.ucdavis.edu/batch) like before and a batch conversion was performed on the webapp where `KEGG` was source type and `InChi Code` as target type. The output was downloaded and saved in `data/KEGG_inchi_no_hmdb_CTS_convert_res.csv`"
   ]
  },
  {
   "cell_type": "code",
   "execution_count": 49,
   "metadata": {},
   "outputs": [],
   "source": [
    "KEGG_inchi_no_hmdb_CTS_convert_res = pd.read_csv('data/KEGG_inchi_no_hmdb_CTS_convert_res.csv')"
   ]
  },
  {
   "cell_type": "markdown",
   "metadata": {},
   "source": [
    "### Load custom data and standards"
   ]
  },
  {
   "cell_type": "code",
   "execution_count": 15,
   "metadata": {},
   "outputs": [],
   "source": [
    "msmls = pd.read_csv('data/MSMLS2015PlateMap_withMW - Sheet1.csv')\n",
    "custom_df = pd.read_csv('data/Core_metabolites_manual - Sheet1.csv')"
   ]
  },
  {
   "cell_type": "markdown",
   "metadata": {},
   "source": [
    "## Preprocessing "
   ]
  },
  {
   "cell_type": "markdown",
   "metadata": {},
   "source": [
    "### Preprocess MDBs and LipidMaps"
   ]
  },
  {
   "cell_type": "code",
   "execution_count": null,
   "metadata": {},
   "outputs": [],
   "source": [
    "hmdb_v4 = preprocess_db(hmdb_v4, smiles_col='smiles')\n",
    "hmdb_detected = hmdb_v4[hmdb_v4.status.isin(['quantified', 'detected'])]\n",
    "\n",
    "ecmb_df_processed = preprocess_db(ecmdb_df, smiles_col='moldb_smiles')\n",
    "ymdb_df_processed = preprocess_db(ymdb_df, smiles_col='SMILES')\n",
    "lm_df_processed = preprocess_db(lm_df, smiles_col='SMILES')"
   ]
  },
  {
   "cell_type": "markdown",
   "metadata": {},
   "source": [
    "### Preprocess KEGG "
   ]
  },
  {
   "cell_type": "code",
   "execution_count": 51,
   "metadata": {},
   "outputs": [],
   "source": [
    "kegg_hmdbs = KEGG_CTS_res[KEGG_CTS_res['Human Metabolome Database'] != 'No result']\n",
    "kegg_struct_df = preprocess_db(KEGG_inchi_no_hmdb_CTS_convert_res, inchi_col='InChI Code')"
   ]
  },
  {
   "cell_type": "markdown",
   "metadata": {},
   "source": [
    "### Preprocess custom and standards"
   ]
  },
  {
   "cell_type": "code",
   "execution_count": null,
   "metadata": {},
   "outputs": [],
   "source": [
    "msmls_processed = preprocess_db(msmls, smiles_col='SMILES')"
   ]
  },
  {
   "cell_type": "markdown",
   "metadata": {},
   "source": [
    "## Overlap analysis"
   ]
  },
  {
   "cell_type": "code",
   "execution_count": 94,
   "metadata": {},
   "outputs": [],
   "source": [
    "he_core = intersect_smiles(hmdb_v4, ecmb_df_processed, smiles_col1='can_smiles', smiles_col2='can_smiles')\n",
    "hey_core = intersect_smiles(pd.DataFrame(he_core,columns=['Smiles']), \n",
    "                            ymdb_df_processed, smiles_col1='Smiles', smiles_col2='can_smiles')\n",
    "\n",
    "hmdb_hey_df = hmdb_v4[hmdb_v4.can_smiles.isin(hey_core)].copy(deep=True)"
   ]
  },
  {
   "cell_type": "code",
   "execution_count": 171,
   "metadata": {},
   "outputs": [],
   "source": [
    "KEGG_hmdb_struct_ids = list(hmdb_v4[hmdb_v4.can_smiles.isin(kegg_struct_df.can_smiles)].copy(deep=True).accession)\n",
    "KEGG_hmdbs_list = list(kegg_hmdbs['Human Metabolome Database'])\n",
    "KEGG_hmdbs_list = [id for ids in [elem.split('\\n') for elem in KEGG_hmdbs_list] for id in ids]\n",
    "kegg_hmdb_df = hmdb_v4[hmdb_v4.accession.isin(KEGG_hmdbs_list + KEGG_hmdb_struct_ids)].copy(deep=True)\n",
    "kegg_not_hmdb = kegg_struct_df[~kegg_struct_df['can_smiles'].isin(list(kegg_hmdb_df.can_smiles))]\n"
   ]
  },
  {
   "cell_type": "code",
   "execution_count": 160,
   "metadata": {},
   "outputs": [],
   "source": [
    "hmdb_lm = intersect_smiles(hmdb_v4, lm_df_processed, smiles_col1='can_smiles', smiles_col2='can_smiles')\n",
    "hmdb_lm_df = hmdb_v4[hmdb_v4.can_smiles.isin(hmdb_lm)].copy(deep=True)"
   ]
  },
  {
   "cell_type": "code",
   "execution_count": 128,
   "metadata": {},
   "outputs": [],
   "source": [
    "msmls_hmdb = intersect_smiles(hmdb_v4, msmls_processed, smiles_col1='can_smiles', smiles_col2='can_smiles')\n",
    "hmdb_ms_df = hmdb_v4[hmdb_v4.can_smiles.isin(msmls_hmdb)].copy(deep=True)\n",
    "msmls_not_hm = msmls_processed[~msmls_processed.can_smiles.isin(hmdb_v4.can_smiles)]"
   ]
  },
  {
   "cell_type": "code",
   "execution_count": 200,
   "metadata": {},
   "outputs": [],
   "source": [
    "hmdb_man_df = hmdb_v4[hmdb_v4.accession.isin(custom_df.HDMB)].copy(deep=True)\n",
    "not_hmdb = custom_df[custom_df.HDMB.isna()]\n",
    "not_hmdb = not_hmdb[~not_hmdb.SMILES.isna()]"
   ]
  },
  {
   "cell_type": "markdown",
   "metadata": {},
   "source": [
    "## Adding formulas not found in HMDB"
   ]
  },
  {
   "cell_type": "code",
   "execution_count": 191,
   "metadata": {},
   "outputs": [],
   "source": [
    "to_add_KEGG = pd.merge(kegg_not_hmdb, KEGG_df, left_on='KEGG', right_on='cpd', how='left').drop(columns='cpd')\n",
    "to_add_KEGG['formula'] = to_add_KEGG['can_smiles'].apply(lambda x: CalcMolFormula(Chem.MolFromSmiles(x)))\n",
    "to_add_KEGG = to_add_KEGG.rename(columns={'cpd_name':'name','KEGG' : 'id', 'InChI Code' : 'inchi'})\n",
    "to_add_KEGG = to_add_KEGG[['id','name','formula','inchi']].drop_duplicates()"
   ]
  },
  {
   "cell_type": "code",
   "execution_count": null,
   "metadata": {},
   "outputs": [],
   "source": [
    "to_add_msmls = msmls_not_hm[['can_smiles','CNAME','FORMULA']].reset_index()\n",
    "to_add_msmls['index'] = to_add_msmls.index\n",
    "to_add_msmls['id'] = to_add_msmls['index'].apply(lambda x: 'msmls' + str(x + 1))\n",
    "to_add_msmls['inchi'] = to_add_msmls['can_smiles'].apply(lambda x: MolToInchi(MolFromSmiles(x)))\n",
    "to_add_msmls = to_add_msmls.rename(columns={'CNAME':'name','FORMULA' : 'formula'})\n",
    "to_add_msmls = to_add_msmls[['id','name','formula','inchi']].drop_duplicates()"
   ]
  },
  {
   "cell_type": "code",
   "execution_count": null,
   "metadata": {},
   "outputs": [],
   "source": [
    "to_add_custom = not_hmdb[['SMILES','Name','Formula','PubChem CID:']].reset_index()\n",
    "to_add_custom['inchi'] = to_add_custom['SMILES'].apply(lambda x: MolToInchi(MolFromSmiles(x)))\n",
    "to_add_custom = to_add_custom.rename(columns={'Name':'name', 'PubChem CID:': 'id','Formula': 'formula'})\n",
    "to_add_custom = to_add_custom[['id', 'name', 'formula', 'inchi']].drop_duplicates()"
   ]
  },
  {
   "cell_type": "markdown",
   "metadata": {},
   "source": [
    "## Compiling CoreMetabolome-V1"
   ]
  },
  {
   "cell_type": "code",
   "execution_count": null,
   "metadata": {},
   "outputs": [],
   "source": [
    "core_df_v1 = pd.concat([hmdb_hey_df, kegg_hmdb_df,hmdb_lm_df,\n",
    "                     hmdb_ms_df,hmdb_man_df,hmdb_detected]).drop_duplicates()\n",
    "core_df_v1['inchi'] = core_df_v1['smiles'].apply(lambda x: MolToInchi(MolFromSmiles(x)))\n",
    "cols = ['accession', 'name', 'chemical_formula', 'inchi']\n",
    "core_df_v1 = core_df_v1[cols].rename(columns={'accession': 'id', 'chemical_formula' : 'formula'})\n"
   ]
  },
  {
   "cell_type": "code",
   "execution_count": 266,
   "metadata": {},
   "outputs": [],
   "source": [
    "to_add_new = pd.concat([to_add_KEGG, to_add_msmls,to_add_custom])\n",
    "core_metabolome_v1 = pd.concat([core_df_v1, to_add_new]).drop_duplicates()\n",
    "core_metabolome_v1.to_csv('coremetabolome_curated/core_metabolome_v1.csv')"
   ]
  },
  {
   "cell_type": "markdown",
   "metadata": {},
   "source": [
    "## Optimizing V1 to V2"
   ]
  },
  {
   "cell_type": "code",
   "execution_count": 344,
   "metadata": {},
   "outputs": [],
   "source": [
    "core_metabolome_v2 = core_metabolome_v1.copy(deep = True)\n",
    "core_metabolome_v2['formula'] = core_metabolome_v2['formula'].apply(lambda x: neutral(x))\n",
    "metals = list(core_metabolome_v2[core_metabolome_v2.formula.str.contains('\\+')].name)\n",
    "core_metabolome_v2 = core_metabolome_v2[~core_metabolome_v2.name.isin(metals)]\n",
    "core_metabolome_v2.to_csv('coremetabolome_curated/core_metabolome_v2.csv', index = False)"
   ]
  }
 ],
 "metadata": {
  "kernelspec": {
   "display_name": "Python 3",
   "language": "python",
   "name": "python3"
  },
  "language_info": {
   "codemirror_mode": {
    "name": "ipython",
    "version": 3
   },
   "file_extension": ".py",
   "mimetype": "text/x-python",
   "name": "python",
   "nbconvert_exporter": "python",
   "pygments_lexer": "ipython3",
   "version": "3.10.14"
  }
 },
 "nbformat": 4,
 "nbformat_minor": 2
}
